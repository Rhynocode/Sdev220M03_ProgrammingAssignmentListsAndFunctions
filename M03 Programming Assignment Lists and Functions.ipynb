{
 "cells": [
  {
   "cell_type": "markdown",
   "id": "55ac865a-73bd-4764-a629-e621a009bad6",
   "metadata": {},
   "source": [
    "Ryan Hayes"
   ]
  },
  {
   "cell_type": "markdown",
   "id": "1645a281-37f0-4655-8e1c-092213ccab98",
   "metadata": {},
   "source": [
    "SDEV220"
   ]
  },
  {
   "cell_type": "markdown",
   "id": "f63d5574-3a2a-4e49-8ef1-e06f7f3d8e51",
   "metadata": {},
   "source": [
    "M03 Programming Assignment - Lists and Functions"
   ]
  },
  {
   "cell_type": "code",
   "execution_count": null,
   "id": "51c7526c-761e-4baa-a3c7-781a6c9a169e",
   "metadata": {},
   "outputs": [],
   "source": [
    "##### 7.4 #####\n",
    "things = [\"mozzarella\", \"cinderella\", \"salmonella\"]\n"
   ]
  },
  {
   "cell_type": "code",
   "execution_count": 1,
   "id": "bc2e5f60-87c3-432e-9a53-0dcdfc67deac",
   "metadata": {},
   "outputs": [
    {
     "name": "stdout",
     "output_type": "stream",
     "text": [
      "['mozzarella', 'Cinderella', 'salmonella']\n"
     ]
    }
   ],
   "source": [
    "##### 7.5 #####\n",
    "things = [\"mozzarella\", \"Cinderella\", \"salmonella\"]\n",
    "print(things)\n",
    "##### Yes, the element has changed because it is now capitalized.\n"
   ]
  },
  {
   "cell_type": "code",
   "execution_count": 2,
   "id": "a907f673-cf6e-4835-a650-78ff8a2a50b1",
   "metadata": {},
   "outputs": [
    {
     "name": "stdout",
     "output_type": "stream",
     "text": [
      "['MOZZARELLA', 'Cinderella', 'salmonella']\n"
     ]
    }
   ],
   "source": [
    "##### 7.6 #####\n",
    "things = [\"MOZZARELLA\", \"Cinderella\", \"salmonella\"]\n",
    "print(things)"
   ]
  },
  {
   "cell_type": "code",
   "execution_count": 4,
   "id": "f5800336-18a5-4fdd-9724-22edd827595f",
   "metadata": {},
   "outputs": [
    {
     "name": "stdout",
     "output_type": "stream",
     "text": [
      "['MOZZARELLA', 'Cinderella']\n"
     ]
    }
   ],
   "source": [
    "##### 7.7 #####\n",
    "things = [\"MOZZARELLA\", \"Cinderella\"]\n",
    "print(things)"
   ]
  },
  {
   "cell_type": "code",
   "execution_count": 8,
   "id": "2e243f78-6058-46cc-a68c-f473e734a4d4",
   "metadata": {},
   "outputs": [
    {
     "name": "stdout",
     "output_type": "stream",
     "text": [
      "['Harry', 'Ron', 'Hermione']\n"
     ]
    }
   ],
   "source": [
    "##### 9.1 #####\n",
    "# Defining the function good() that returns a specific list\n",
    "def good():\n",
    "    return ['Harry', 'Ron', 'Hermione']\n",
    "\n",
    "# Calling the function and printing its return value to demonstrate\n",
    "print(good())\n"
   ]
  },
  {
   "cell_type": "code",
   "execution_count": 5,
   "id": "59135fd2-e54b-4ee5-9a24-1ca5b4b74d85",
   "metadata": {},
   "outputs": [
    {
     "data": {
      "text/plain": [
       "5"
      ]
     },
     "execution_count": 5,
     "metadata": {},
     "output_type": "execute_result"
    }
   ],
   "source": [
    "##### 9.2 #####\n",
    "# Defining a generator function get_odds()\n",
    "def get_odds():\n",
    "    for number in range(10):\n",
    "        if number % 2 != 0:\n",
    "            yield number\n",
    "\n",
    "# Using a for loop to find and print the third value returned by get_odds()\n",
    "third_odd = None\n",
    "for index, odd in enumerate(get_odds(), start=1):\n",
    "    if index == 3:\n",
    "        third_odd = odd\n",
    "        break\n",
    "\n",
    "third_odd\n"
   ]
  },
  {
   "cell_type": "code",
   "execution_count": null,
   "id": "5cd9884a-20a0-4337-a522-f388a8bc6ce4",
   "metadata": {},
   "outputs": [],
   "source": []
  }
 ],
 "metadata": {
  "kernelspec": {
   "display_name": "Python 3 (ipykernel)",
   "language": "python",
   "name": "python3"
  },
  "language_info": {
   "codemirror_mode": {
    "name": "ipython",
    "version": 3
   },
   "file_extension": ".py",
   "mimetype": "text/x-python",
   "name": "python",
   "nbconvert_exporter": "python",
   "pygments_lexer": "ipython3",
   "version": "3.11.7"
  }
 },
 "nbformat": 4,
 "nbformat_minor": 5
}
